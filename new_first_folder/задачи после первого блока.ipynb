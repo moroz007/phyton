{
 "cells": [
  {
   "cell_type": "code",
   "execution_count": 1,
   "metadata": {},
   "outputs": [
    {
     "name": "stdout",
     "output_type": "stream",
     "text": [
      "3\n",
      "4\n",
      "5\n",
      "6.0\n"
     ]
    }
   ],
   "source": [
    "a = int(input()) # введите значение A\n",
    "b = int(input()) # введите значение B\n",
    "c = int(input()) # введите значение C\n",
    "p = (a + b + c) / 2\n",
    "s = (p * (p - a) * (p - b) * (p - c)) ** (1/2)\n",
    "print(s)"
   ]
  },
  {
   "cell_type": "code",
   "execution_count": 20,
   "metadata": {},
   "outputs": [
    {
     "name": "stdout",
     "output_type": "stream",
     "text": [
      "14\n",
      "False\n"
     ]
    }
   ],
   "source": [
    "a = int(input()) # введите значение A \n",
    "if (-15 < a <= 12 or 14 < a < 17 or 19 <= a ):\n",
    "    print('True')\n",
    "else:\n",
    "    print('False')"
   ]
  },
  {
   "cell_type": "code",
   "execution_count": 9,
   "metadata": {},
   "outputs": [
    {
     "name": "stdout",
     "output_type": "stream",
     "text": [
      "5\n",
      "0\n",
      "*\n",
      "0.0\n"
     ]
    }
   ],
   "source": [
    "a = float(input()) # введите значение A\n",
    "b = float(input()) # введите значение B\n",
    "c = input() # введите значение C\n",
    "if c == '+' :  \n",
    "    print(a + b)\n",
    "elif c == '-' :\n",
    "    print(a - b)\n",
    "if c == '/' :\n",
    "    if b == 0 or b == 0.0:\n",
    "        print('Деление на 0!')\n",
    "    else:\n",
    "        print(a / b)\n",
    "elif c == '*' :\n",
    "        print(a * b)\n",
    "elif c == 'pow' :\n",
    "        print(a ** b)\n",
    "elif c == 'div' :\n",
    "    if b == 0 or b == 0.0:\n",
    "        print('Деление на 0!')\n",
    "    else:\n",
    "        print(a // b)\n",
    "elif c == 'mod' :\n",
    "    if b == 0 or b == 0.0:\n",
    "        print('Деление на 0!')\n",
    "    else:\n",
    "        print(a % b)"
   ]
  },
  {
   "cell_type": "code",
   "execution_count": 8,
   "metadata": {},
   "outputs": [
    {
     "name": "stdout",
     "output_type": "stream",
     "text": [
      "круг\n",
      "5\n",
      "78.5\n"
     ]
    }
   ],
   "source": [
    "H = input()\n",
    "\n",
    "if H == 'треугольник':\n",
    "    a = int(input())\n",
    "    b = int(input())\n",
    "    c = int(input())\n",
    "    p = (a + b + c) / 2\n",
    "    result = (p * (p - a) * (p - b) * (p - c)) ** (1/2)\n",
    "\n",
    "elif H == 'прямоугольник':\n",
    "    a = int(input())\n",
    "    b = int(input())\n",
    "    result = (a * b)\n",
    "    \n",
    "elif H == 'круг':\n",
    "    a = int(input())\n",
    "    result = (3.14 * a ** 2)\n",
    "    \n",
    "print(float(result))"
   ]
  },
  {
   "cell_type": "code",
   "execution_count": null,
   "metadata": {},
   "outputs": [],
   "source": [
    "a = int(input())\n",
    "b = int(input())\n",
    "c = int(input())\n",
    "if a >= c >=b:\n",
    "    print(a)\n",
    "    print(b)\n",
    "    print(c)\n",
    "elif a >= b >= c:\n",
    "    print(a)\n",
    "    print(c)\n",
    "    print(b)\n",
    "elif a <= b <= c:\n",
    "    print(c)\n",
    "    print(a)\n",
    "    print(b)\n",
    "elif c >= a >= b:\n",
    "    print(c)\n",
    "    print(b)\n",
    "    print(a)\n",
    "elif b >= c >= a:\n",
    "    print(b)\n",
    "    print(a)\n",
    "    print(c)\n",
    "elif b >= a >= c:\n",
    "    print(b)\n",
    "    print(c)\n",
    "    print(a)"
   ]
  },
  {
   "cell_type": "code",
   "execution_count": null,
   "metadata": {},
   "outputs": [],
   "source": [
    "a = 'программист'\n",
    "b = 'программиста'\n",
    "c = 'программистов'\n",
    "x = int(input())\n",
    "v = x % 10\n",
    "m = x % 100\n",
    "if x == 1 or v == 1:\n",
    "    if m == 11 or x == 11:\n",
    "        print(x, c)\n",
    "    else:\n",
    "        print(x, a)\n",
    "elif v == 2 or v == 3 or v == 4:\n",
    "    if 12 <= x <= 20 or 12 <= m <= 20:\n",
    "        print(x, c)\n",
    "    else:\n",
    "        print(x, b)\n",
    "else:\n",
    "    print(x, c)"
   ]
  },
  {
   "cell_type": "code",
   "execution_count": 13,
   "metadata": {},
   "outputs": [
    {
     "name": "stdout",
     "output_type": "stream",
     "text": [
      "006020\n",
      "6 \n",
      " 0 \n",
      " 0 \n",
      " 6 \n",
      "\n",
      "20 \n",
      " 0 \n",
      " 2 \n",
      " 0 \n",
      "\n",
      "Счастливый\n",
      "Обычный\n"
     ]
    }
   ],
   "source": [
    "x = int(input()) # вводим номер билета\n",
    "a = x // 1000\n",
    "b = x % 1000\n",
    "q = a // 100\n",
    "w = (a // 10) % 10 \n",
    "e = a % 10\n",
    "r = b // 100\n",
    "t = (b // 10) % 10 \n",
    "y = b % 10\n",
    "if (q + w + e) != (r + t + y):\n",
    "    print('Обычный')\n",
    "else:\n",
    "    print('Счастливый')\n",
    "#print(a, '\\n', q, '\\n', w, '\\n', e, '\\n')\n",
    "#print(b, '\\n', r, '\\n', t, '\\n', y, '\\n')"
   ]
  },
  {
   "cell_type": "markdown",
   "metadata": {},
   "source": []
  }
 ],
 "metadata": {
  "kernelspec": {
   "display_name": "Python 3",
   "language": "python",
   "name": "python3"
  },
  "language_info": {
   "codemirror_mode": {
    "name": "ipython",
    "version": 3
   },
   "file_extension": ".py",
   "mimetype": "text/x-python",
   "name": "python",
   "nbconvert_exporter": "python",
   "pygments_lexer": "ipython3",
   "version": "3.5.6"
  }
 },
 "nbformat": 4,
 "nbformat_minor": 2
}
