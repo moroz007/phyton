{
 "cells": [
  {
   "cell_type": "code",
   "execution_count": 3,
   "metadata": {},
   "outputs": [
    {
     "name": "stdout",
     "output_type": "stream",
     "text": [
      "q= 456\n",
      "w= 123456\n",
      "e= 4567890k\n",
      "r= k0987654321\n",
      "t= 90k\n",
      "y= 12345\n",
      "u= k9753\n"
     ]
    }
   ],
   "source": [
    "s = '1234567890k'\n",
    "q=s[3:6]\n",
    "w=s[:6]\n",
    "e=s[3:]\n",
    "r=s[::-1]\n",
    "t=s[-3:]\n",
    "y=s[:-6]\n",
    "u=s[-1:-10:-2]\n",
    "#print('\\t','q=', q, '\\n\\t', w, '\\n\\t', e, '\\n\\t', r, '\\n\\t', t, '\\n\\t', y, '\\n\\t', u)\n",
    "print('q=', q)\n",
    "print('w=', w)\n",
    "print('e=', e)\n",
    "print('r=', r)\n",
    "print('t=', t)\n",
    "print('y=', y)\n",
    "print('u=', u)"
   ]
  },
  {
   "cell_type": "code",
   "execution_count": null,
   "metadata": {},
   "outputs": [],
   "source": []
  }
 ],
 "metadata": {
  "kernelspec": {
   "display_name": "Python 3",
   "language": "python",
   "name": "python3"
  },
  "language_info": {
   "codemirror_mode": {
    "name": "ipython",
    "version": 3
   },
   "file_extension": ".py",
   "mimetype": "text/x-python",
   "name": "python",
   "nbconvert_exporter": "python",
   "pygments_lexer": "ipython3",
   "version": "3.5.6"
  }
 },
 "nbformat": 4,
 "nbformat_minor": 2
}
