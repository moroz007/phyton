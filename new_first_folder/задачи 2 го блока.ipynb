{
 "cells": [
  {
   "cell_type": "code",
   "execution_count": null,
   "metadata": {},
   "outputs": [],
   "source": [
    "s = 0\n",
    "a = int(input())\n",
    "while a != 0:\n",
    "    s = s + a\n",
    "    a = int(input())\n",
    "print(s)\n",
    "print('Верно решенная задача.')"
   ]
  },
  {
   "cell_type": "code",
   "execution_count": null,
   "metadata": {},
   "outputs": [],
   "source": [
    "a = int(input())\n",
    "b = int(input())\n",
    "k = 1\n",
    "while k <= (a * b):\n",
    "    if k % a == 0 and k % b == 0:\n",
    "        print(k)  \n",
    "        break\n",
    "    else:\n",
    "        k = k + 1\n",
    "print('Верно решенная задача. но ')"
   ]
  },
  {
   "cell_type": "code",
   "execution_count": null,
   "metadata": {},
   "outputs": [],
   "source": [
    "a = int(input())\n",
    "while a <= 100:\n",
    "    if 9 < a <= 100:\n",
    "        print(a)\n",
    "    a = int(input())\n",
    "print('Верно решенная задача')"
   ]
  },
  {
   "cell_type": "code",
   "execution_count": 1,
   "metadata": {},
   "outputs": [
    {
     "name": "stdout",
     "output_type": "stream",
     "text": [
      " \t 5\t \t 6\t \t 7\t"
     ]
    }
   ],
   "source": [
    "a = 1 #int(input())\n",
    "b = 3 #int(input())\n",
    "c = 5 #int(input())\n",
    "d = 7 #int(input())\n",
    "\n",
    "for i in range(a, b + 1):\n",
    "    \n",
    "    for j in range (c, d + 1):\n",
    "        print('', '\\t', j, end='\\t')\n",
    "    break\n",
    "    for e in range (c, d + 1):\n",
    "        print('', '\\t', e * i, end='\\t')\n",
    "    print()    "
   ]
  },
  {
   "cell_type": "code",
   "execution_count": null,
   "metadata": {},
   "outputs": [],
   "source": [
    "for i in range(10):\n",
    "    if i==0 or i==9:\n",
    "        for j in range(20):\n",
    "            print('w',end='')\n",
    "    else:\n",
    "        print('w',end='')\n",
    "        for j in range(1,19):\n",
    "            print('l',end='')\n",
    "        print('w',end='')\n",
    "    print()"
   ]
  },
  {
   "cell_type": "code",
   "execution_count": null,
   "metadata": {},
   "outputs": [],
   "source": []
  },
  {
   "cell_type": "code",
   "execution_count": null,
   "metadata": {},
   "outputs": [],
   "source": [
    "a = 1 #int(input())\n",
    "b = 3 #int(input())\n",
    "c = 5 #int(input())\n",
    "d = 7 #int(input())\n",
    "\n",
    "for j in range (c, d + 1):\n",
    "    print('\\t', j, end=\"\")\n",
    "print()\n",
    "for i in range(a, b + 1):\n",
    "    print(i), #print('\\t', i*j, end='')\n",
    "\n",
    "\n",
    "\n",
    "#        for i in range(a, b + 1):\n",
    "#            for j in range (c, d + 1):\n",
    "#    print('\\t', i*j, end='')\n",
    "\n",
    "\n",
    "\n",
    "#    for i in range(a, b + 1):\n",
    "#        print(i)\n",
    "#    print()\n",
    "#    for j in range (c, d + 1):\n",
    "#        #print('\\t', j, end='\\t'), print('\\n'), \n",
    "#        print(j * i, end='\\t')\n",
    "#print()"
   ]
  },
  {
   "cell_type": "code",
   "execution_count": 32,
   "metadata": {},
   "outputs": [
    {
     "name": "stdout",
     "output_type": "stream",
     "text": [
      "\t 5\t 6\t 7\n",
      "2\t 10\t 12\t 14\n",
      "3\t 15\t 18\t 21\n",
      "4\t 20\t 24\t 28\n",
      "Верно решенная задача\n"
     ]
    }
   ],
   "source": [
    "a = 2 #int(input())\n",
    "b = 4 #int(input())\n",
    "c = 5 #int(input())\n",
    "d = 7 #int(input())\n",
    "for j in range (c, d + 1):\n",
    "    print('\\t', j, end=\"\")\n",
    "print()\n",
    "\n",
    "for i in range(a, b + 1):\n",
    "    print(i, end = '')\n",
    "    for j in range (c, d + 1):\n",
    "        print('\\t', i*j, end='')\n",
    "    print()\n",
    "print('Верно решенная задача')"
   ]
  },
  {
   "cell_type": "code",
   "execution_count": 17,
   "metadata": {},
   "outputs": [
    {
     "name": "stdout",
     "output_type": "stream",
     "text": [
      "7.5\n"
     ]
    }
   ],
   "source": [
    "a = 2 #int(input())\n",
    "b = 14 #int(input())\n",
    "s = 0\n",
    "k = 0\n",
    "for i in range (a, b + 1):\n",
    "\n",
    "    if i % 3 == 0:\n",
    "        s = s + i\n",
    "        k += 1\n",
    "print(s/k)\n",
    "print('Верно решенная задача')"
   ]
  },
  {
   "cell_type": "code",
   "execution_count": 10,
   "metadata": {},
   "outputs": [
    {
     "name": "stdout",
     "output_type": "stream",
     "text": [
      "acggtgttat\n",
      "40.0\n"
     ]
    }
   ],
   "source": [
    "x = input() #.split()-ненужен\n",
    "o = len(x)\n",
    "Ng = 0\n",
    "Nc = 0\n",
    "for nucl in x:\n",
    "    if nucl == 'g' or nucl == 'G':\n",
    "        Ng += 1\n",
    "    elif nucl == 'c' or nucl == 'C':\n",
    "        Nc += 1\n",
    "Ngc = Ng + Nc\n",
    "\n",
    "gc = Ngc / o * 100\n",
    "\n",
    "print(gc)\n",
    "\n",
    "print('Верно решенная задача')"
   ]
  },
  {
   "cell_type": "code",
   "execution_count": 20,
   "metadata": {},
   "outputs": [
    {
     "name": "stdout",
     "output_type": "stream",
     "text": [
      "\t def \n",
      "\t abcdef \n",
      "\t defghijk \n",
      "\t kjihgfedcba \n",
      "\t ijk \n",
      "\t abcde \n",
      "\t kigec\n"
     ]
    }
   ],
   "source": [
    "s = 'abcdefghijk'\n",
    "q=s[3:6]\n",
    "w=s[:6]\n",
    "e=s[3:]\n",
    "r=s[::-1]\n",
    "t=s[-3:]\n",
    "y=s[:-6]\n",
    "u=s[-1:-10:-2]\n",
    "print('\\t', q, '\\n\\t', w, '\\n\\t', e, '\\n\\t', r, '\\n\\t', t, '\\n\\t', y, '\\n\\t', u)"
   ]
  },
  {
   "cell_type": "code",
   "execution_count": 13,
   "metadata": {},
   "outputs": [
    {
     "ename": "NameError",
     "evalue": "name 'index' is not defined",
     "output_type": "error",
     "traceback": [
      "\u001b[1;31m---------------------------------------------------------------------------\u001b[0m",
      "\u001b[1;31mNameError\u001b[0m                                 Traceback (most recent call last)",
      "\u001b[1;32m<ipython-input-13-3bdfa73fbea2>\u001b[0m in \u001b[0;36m<module>\u001b[1;34m()\u001b[0m\n\u001b[0;32m      4\u001b[0m \u001b[0mk\u001b[0m \u001b[1;33m=\u001b[0m \u001b[1;36m0\u001b[0m\u001b[1;33m\u001b[0m\u001b[0m\n\u001b[0;32m      5\u001b[0m \u001b[1;32mfor\u001b[0m \u001b[0mi\u001b[0m \u001b[1;32min\u001b[0m \u001b[0mrange\u001b[0m \u001b[1;33m(\u001b[0m\u001b[0mo\u001b[0m\u001b[1;33m)\u001b[0m\u001b[1;33m:\u001b[0m\u001b[1;33m\u001b[0m\u001b[0m\n\u001b[1;32m----> 6\u001b[1;33m     \u001b[1;32mif\u001b[0m \u001b[0mx\u001b[0m\u001b[1;33m[\u001b[0m\u001b[0mindex\u001b[0m\u001b[1;33m]\u001b[0m \u001b[1;33m==\u001b[0m \u001b[0mx\u001b[0m\u001b[1;33m[\u001b[0m\u001b[0mindex\u001b[0m \u001b[1;33m+\u001b[0m \u001b[1;36m1\u001b[0m\u001b[1;33m]\u001b[0m\u001b[1;33m:\u001b[0m\u001b[1;33m\u001b[0m\u001b[0m\n\u001b[0m\u001b[0;32m      7\u001b[0m         \u001b[0mk\u001b[0m \u001b[1;33m+=\u001b[0m \u001b[1;36m1\u001b[0m\u001b[1;33m\u001b[0m\u001b[0m\n\u001b[0;32m      8\u001b[0m     \u001b[0mprint\u001b[0m\u001b[1;33m(\u001b[0m\u001b[0mi\u001b[0m\u001b[1;33m,\u001b[0m \u001b[0mk\u001b[0m\u001b[1;33m,\u001b[0m \u001b[0mend\u001b[0m\u001b[1;33m=\u001b[0m\u001b[1;34m''\u001b[0m\u001b[1;33m)\u001b[0m\u001b[1;33m\u001b[0m\u001b[0m\n",
      "\u001b[1;31mNameError\u001b[0m: name 'index' is not defined"
     ]
    }
   ],
   "source": [
    "x = 'aaaabbcaa' #input()\n",
    "o = len(x)\n",
    "n = x[0]\n",
    "k = 0\n",
    "for i in range (o):\n",
    "    if x[index] == x[index + 1]:\n",
    "        k += 1\n",
    "    print(i, k, end='')"
   ]
  },
  {
   "cell_type": "code",
   "execution_count": 33,
   "metadata": {},
   "outputs": [
    {
     "name": "stdout",
     "output_type": "stream",
     "text": [
      "a4b2c1a2\n",
      "Верно решенная задача\n"
     ]
    }
   ],
   "source": [
    "x = 'aaaabbcaa' #str(input())\n",
    "o = 1\n",
    "k = 1\n",
    "j = x[k:k + 1]\n",
    "for i in x:\n",
    "    if i in j:\n",
    "        o += 1\n",
    "    else:\n",
    "        print(i, end='')\n",
    "        print(o, end='')\n",
    "        o = 1\n",
    "    k += 1\n",
    "    j = x[k:k + 1]\n",
    "print()\n",
    "print('Верно решенная задача')"
   ]
  },
  {
   "cell_type": "code",
   "execution_count": 8,
   "metadata": {},
   "outputs": [
    {
     "name": "stdout",
     "output_type": "stream",
     "text": [
      "['1', '4', '-5', '6', '4']\n",
      "10\n"
     ]
    }
   ],
   "source": [
    "x = '1 4 -5 6 4' #str(input())\n",
    "o = x.split()\n",
    "#print(o)\n",
    "r = sum(int(i) for i in o)\n",
    "print(r)\n",
    "print('Верно решенная задача')"
   ]
  },
  {
   "cell_type": "code",
   "execution_count": null,
   "metadata": {},
   "outputs": [],
   "source": [
    "s = '1234567890k'\n",
    "q=s[3:6]\n",
    "w=s[:6]\n",
    "e=s[3:]\n",
    "r=s[::-1]\n",
    "t=s[-3:]\n",
    "y=s[:-6]\n",
    "u=s[-1:-10:-2]\n",
    "z=s[0:-1]\n",
    "#print('\\t','q=', q, '\\n\\t', w, '\\n\\t', e, '\\n\\t', r, '\\n\\t', t, '\\n\\t', y, '\\n\\t', u)\n",
    "print('q=', q)\n",
    "print('w=', w)\n",
    "print('e=', e)\n",
    "print('r=', r)\n",
    "print('t=', t)\n",
    "print('y=', y)\n",
    "print('u=', u)\n",
    "print('z=', z)"
   ]
  },
  {
   "cell_type": "code",
   "execution_count": 100,
   "metadata": {},
   "outputs": [
    {
     "name": "stdout",
     "output_type": "stream",
     "text": [
      "['1', '3', '5', '6', '10']\n",
      "13\n",
      "13\n",
      "13\n",
      "13\n"
     ]
    }
   ],
   "source": [
    "x = '1 3 5 6 10' #str(input())\n",
    "w = x.split()\n",
    "print(w)\n",
    "o = 0\n",
    "k = 0\n",
    "#j = w[k]\n",
    "for i in w[0:-1]:\n",
    "#    if k + 1 not in w:\n",
    "#        print(int(w[k-1])+int(w[o]))\n",
    "#    else:\n",
    "    print(int(w[k-1])+int(w[k+1]))   \n"
   ]
  },
  {
   "cell_type": "code",
   "execution_count": 102,
   "metadata": {},
   "outputs": [
    {
     "name": "stdout",
     "output_type": "stream",
     "text": [
      "['1', '3', '5', '6', '10']\n",
      "13\n",
      "6\n",
      "9\n",
      "15\n"
     ]
    },
    {
     "ename": "IndexError",
     "evalue": "list index out of range",
     "output_type": "error",
     "traceback": [
      "\u001b[1;31m---------------------------------------------------------------------------\u001b[0m",
      "\u001b[1;31mIndexError\u001b[0m                                Traceback (most recent call last)",
      "\u001b[1;32m<ipython-input-102-4896ab5c87cc>\u001b[0m in \u001b[0;36m<module>\u001b[1;34m()\u001b[0m\n\u001b[0;32m      7\u001b[0m         \u001b[0mprint\u001b[0m\u001b[1;33m(\u001b[0m\u001b[0mint\u001b[0m\u001b[1;33m(\u001b[0m\u001b[0mw\u001b[0m\u001b[1;33m[\u001b[0m\u001b[0mk\u001b[0m\u001b[1;33m-\u001b[0m\u001b[1;36m1\u001b[0m\u001b[1;33m]\u001b[0m\u001b[1;33m)\u001b[0m\u001b[1;33m+\u001b[0m\u001b[0mint\u001b[0m\u001b[1;33m(\u001b[0m\u001b[0mw\u001b[0m\u001b[1;33m[\u001b[0m\u001b[1;36m0\u001b[0m\u001b[1;33m]\u001b[0m\u001b[1;33m)\u001b[0m\u001b[1;33m)\u001b[0m\u001b[1;33m\u001b[0m\u001b[0m\n\u001b[0;32m      8\u001b[0m     \u001b[1;32melse\u001b[0m\u001b[1;33m:\u001b[0m\u001b[1;33m\u001b[0m\u001b[0m\n\u001b[1;32m----> 9\u001b[1;33m         \u001b[0mprint\u001b[0m\u001b[1;33m(\u001b[0m\u001b[0mint\u001b[0m\u001b[1;33m(\u001b[0m\u001b[0mw\u001b[0m\u001b[1;33m[\u001b[0m\u001b[0mk\u001b[0m\u001b[1;33m-\u001b[0m\u001b[1;36m1\u001b[0m\u001b[1;33m]\u001b[0m\u001b[1;33m)\u001b[0m\u001b[1;33m+\u001b[0m\u001b[0mint\u001b[0m\u001b[1;33m(\u001b[0m\u001b[0mw\u001b[0m\u001b[1;33m[\u001b[0m\u001b[0mk\u001b[0m\u001b[1;33m+\u001b[0m\u001b[1;36m1\u001b[0m\u001b[1;33m]\u001b[0m\u001b[1;33m)\u001b[0m\u001b[1;33m)\u001b[0m\u001b[1;33m\u001b[0m\u001b[0m\n\u001b[0m\u001b[0;32m     10\u001b[0m     \u001b[0mk\u001b[0m \u001b[1;33m+=\u001b[0m \u001b[1;36m1\u001b[0m\u001b[1;33m\u001b[0m\u001b[0m\n",
      "\u001b[1;31mIndexError\u001b[0m: list index out of range"
     ]
    }
   ],
   "source": [
    "x = '1 3 5 6 10' #str(input())\n",
    "w = x.split()\n",
    "print(w)\n",
    "k = 0\n",
    "while w[-1]:\n",
    "    if w[-1] == k:\n",
    "        print(int(w[k-1])+int(w[0])) \n",
    "    else: \n",
    "        print(int(w[k-1])+int(w[k+1]))\n",
    "    k += 1"
   ]
  },
  {
   "cell_type": "code",
   "execution_count": null,
   "metadata": {},
   "outputs": [],
   "source": [
    "x = '1 3 5 6 10' #str(input())\n",
    "w = x.split()\n",
    "print(w)\n",
    "k = 0\n",
    "if w[0] == w[-1]:\n",
    "    print(x)\n",
    "else:\n",
    "    for i in w[0:-1]:\n",
    "        print(int(w[k-1])+int(w[k+1]))\n",
    "        k += 1\n",
    "    print(int(w[-2])+int(w[0]))\n",
    "print('Верно решенная задача')"
   ]
  },
  {
   "cell_type": "code",
   "execution_count": null,
   "metadata": {},
   "outputs": [],
   "source": [
    "x = '1 1 1 1 3 3 3 2 2 2 2 2 2 3 4 5 5' #str(input())\n",
    "w = x.split()\n",
    "w.sort()\n",
    "#print(w)\n",
    "k = 0\n",
    "while(k<len(w)):\n",
    "    c = w.count(w[k])\n",
    "    if c > 1:\n",
    "        print(w[k], end = ' ')\n",
    "        k += c\n",
    "    else:\n",
    "        k += 1\n",
    "print('Верно решенная задача')"
   ]
  },
  {
   "cell_type": "code",
   "execution_count": null,
   "metadata": {},
   "outputs": [],
   "source": [
    "x = str(input())\n",
    "w = x.split()\n",
    "print(w)"
   ]
  },
  {
   "cell_type": "code",
   "execution_count": null,
   "metadata": {},
   "outputs": [],
   "source": [
    "x = '1 -3 5 -6 -10 13 4 -8' #str(input())\n",
    "w = x.split()\n",
    "#print(w) - проверка строки\n",
    "s = 0\n",
    "k = 0\n",
    "for i in w:\n",
    "    while ((w[k]+w[k+1])!=0):\n",
    "        s += 1\n",
    "print(k)\n",
    "# k = (w[o])+(w[o+1])\n",
    "#while(k!=0):\n",
    "#    o !+ 1\n",
    "#    for i in w[0:-1]:\n",
    "# for i in w[0:o+1] :квадрат сыммы всех чисел\n",
    "#print(w[o])"
   ]
  },
  {
   "cell_type": "code",
   "execution_count": null,
   "metadata": {},
   "outputs": [],
   "source": [
    "a = int()\n",
    "b = 0\n",
    "c = 0\n",
    "d = 0\n",
    "\n",
    "while True:\n",
    "a = int(input()) \n",
    "b = a*a\n",
    "c += a\n",
    "d += b\n",
    "    if c == 0:\n",
    "        print(d)\n",
    "break"
   ]
  },
  {
   "cell_type": "code",
   "execution_count": null,
   "metadata": {},
   "outputs": [],
   "source": []
  }
 ],
 "metadata": {
  "kernelspec": {
   "display_name": "Python 3",
   "language": "python",
   "name": "python3"
  },
  "language_info": {
   "codemirror_mode": {
    "name": "ipython",
    "version": 3
   },
   "file_extension": ".py",
   "mimetype": "text/x-python",
   "name": "python",
   "nbconvert_exporter": "python",
   "pygments_lexer": "ipython3",
   "version": "3.5.6"
  }
 },
 "nbformat": 4,
 "nbformat_minor": 2
}
