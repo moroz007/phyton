{
 "cells": [
  {
   "cell_type": "code",
   "execution_count": 13,
   "metadata": {},
   "outputs": [
    {
     "name": "stdout",
     "output_type": "stream",
     "text": [
      "Аня узнала что нужно спать (введите сколько нужно спать в часах): 8\n",
      "но спать нужно не более (введите сколько нужно спать в часах): 8\n",
      "сейчас Аня спит (введите сколько спит Аня в часах)8\n",
      "Это нормально\n"
     ]
    }
   ],
   "source": [
    "a = int(input('Аня узнала что нужно спать (введите сколько нужно спать в часах): '))\n",
    "b = int(input('но спать нужно не более (введите сколько нужно спать в часах): '))\n",
    "h = int(input('сейчас Аня спит (введите сколько спит Аня в часах)'))\n",
    "\n",
    "a != b\n",
    "\n",
    "if (h >= a and h <= b):\n",
    "    print('Это нормально')\n",
    "elif h > b:\n",
    "    print ('Пересып')\n",
    "elif h < a:\n",
    "    print('Недосып')"
   ]
  },
  {
   "cell_type": "code",
   "execution_count": null,
   "metadata": {},
   "outputs": [],
   "source": []
  }
 ],
 "metadata": {
  "kernelspec": {
   "display_name": "Python 3",
   "language": "python",
   "name": "python3"
  },
  "language_info": {
   "codemirror_mode": {
    "name": "ipython",
    "version": 3
   },
   "file_extension": ".py",
   "mimetype": "text/x-python",
   "name": "python",
   "nbconvert_exporter": "python",
   "pygments_lexer": "ipython3",
   "version": "3.5.6"
  }
 },
 "nbformat": 4,
 "nbformat_minor": 2
}
